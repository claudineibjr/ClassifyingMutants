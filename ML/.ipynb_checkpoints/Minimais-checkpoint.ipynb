{
 "cells": [
  {
   "cell_type": "code",
   "execution_count": 13,
   "metadata": {},
   "outputs": [
    {
     "name": "stdout",
     "output_type": "stream",
     "text": [
      "1    387\n",
      "0    387\n",
      "Name: _IM_MINIMAL, dtype: int64\n"
     ]
    }
   ],
   "source": [
    "from sklearn.datasets import load_iris\n",
    "import numpy as np\n",
    "from collections import defaultdict\n",
    "from sklearn.model_selection import train_test_split, cross_val_score\n",
    "from sklearn.metrics import classification_report, confusion_matrix\n",
    "\n",
    "from sklearn.neighbors import KNeighborsClassifier\n",
    "\n",
    "\n",
    "import pandas as pd\n",
    "\n",
    "\n",
    "df = pd.read_csv('1Full Mutants wOperator.csv')\n",
    "\n",
    "#escolher um desses dois\n",
    "column = '_IM_MINIMAL'\n",
    "#column = '_IM_EQUIVALENT'\n",
    "\n",
    "\n",
    "g = df.groupby(column)\n",
    "df = pd.DataFrame(g.apply(lambda x: x.sample(g.size().min()).reset_index(drop=True)))\n",
    "print(df[column].value_counts())\n",
    "\n",
    "Y = df[column].values\n",
    "#df.drop(['_IM_MINIMAL','_IM_EQUIVALENT'], axis=1)\n",
    "df.drop(['_IM_MINIMAL'], axis=1)\n",
    "X = df.values"
   ]
  },
  {
   "cell_type": "code",
   "execution_count": 12,
   "metadata": {},
   "outputs": [
    {
     "name": "stdout",
     "output_type": "stream",
     "text": [
      "A acurácia média para  1 vizinhos é 96.77%\n",
      "A acurácia média para  2 vizinhos é 93.92%\n",
      "A acurácia média para  3 vizinhos é 93.28%\n",
      "A acurácia média para  4 vizinhos é 92.38%\n",
      "A acurácia média para  5 vizinhos é 91.09%\n",
      "A acurácia média para  6 vizinhos é 89.27%\n",
      "A acurácia média para  7 vizinhos é 87.98%\n",
      "A acurácia média para  8 vizinhos é 86.69%\n",
      "A acurácia média para  9 vizinhos é 86.69%\n",
      "A acurácia média para 10 vizinhos é 86.94%\n",
      "A acurácia média para 11 vizinhos é 86.82%\n",
      "A acurácia média para 12 vizinhos é 86.56%\n",
      "A acurácia média para 13 vizinhos é 85.53%\n",
      "A acurácia média para 14 vizinhos é 84.11%\n",
      "A acurácia média para 15 vizinhos é 82.56%\n",
      "A acurácia média para 16 vizinhos é 82.68%\n",
      "A acurácia média para 17 vizinhos é 82.04%\n",
      "A acurácia média para 18 vizinhos é 81.39%\n",
      "A acurácia média para 19 vizinhos é 80.74%\n",
      "A acurácia média para 20 vizinhos é 80.74%\n"
     ]
    }
   ],
   "source": [
    "for k in range(1,21):\n",
    "    estimator = KNeighborsClassifier(n_neighbors=k)\n",
    "    scores = cross_val_score(estimator, X, Y, scoring='accuracy',cv=5)\n",
    "    print(confusion_matrix(X, Y))\n",
    "    print(classification_report(X, Y))\n",
    "    average_accuracy = np.mean(scores) * 100\n",
    "    print(\"A acurácia média para {:2d} vizinhos é {:.2f}%\".format(k,average_accuracy))\n"
   ]
  },
  {
   "cell_type": "code",
   "execution_count": null,
   "metadata": {},
   "outputs": [],
   "source": []
  }
 ],
 "metadata": {
  "kernelspec": {
   "display_name": "Python 3",
   "language": "python",
   "name": "python3"
  },
  "language_info": {
   "codemirror_mode": {
    "name": "ipython",
    "version": 3
   },
   "file_extension": ".py",
   "mimetype": "text/x-python",
   "name": "python",
   "nbconvert_exporter": "python",
   "pygments_lexer": "ipython3",
   "version": "3.6.8"
  }
 },
 "nbformat": 4,
 "nbformat_minor": 2
}
