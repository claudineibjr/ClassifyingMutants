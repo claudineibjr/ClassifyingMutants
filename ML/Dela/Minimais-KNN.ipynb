 {
 "cells": [
  {
   "cell_type": "code",
   "execution_count": 38,
   "metadata": {},
   "outputs": [
    {
     "name": "stdout",
     "output_type": "stream",
     "text": [
      "1    443\n",
      "0    443\n",
      "Name: _IM_EQUIVALENT, dtype: int64\n"
     ]
    }
   ],
   "source": [
    "from sklearn.datasets import load_iris\n",
    "import numpy as np\n",
    "from collections import defaultdict\n",
    "from sklearn.model_selection import train_test_split, cross_val_score\n",
    "\n",
    "from sklearn.neighbors import KNeighborsClassifier\n",
    "\n",
    "\n",
    "import pandas as pd\n",
    "\n",
    "\n",
    "df = pd.read_csv('1Full Mutants wOperator.csv')\n",
    "\n",
    "#escolher um desses dois\n",
    "#column = '_IM_MINIMAL'\n",
    "column = '_IM_EQUIVALENT'\n",
    "\n",
    "\n",
    "g = df.groupby(column)\n",
    "df = pd.DataFrame(g.apply(lambda x: x.sample(g.size().min()).reset_index(drop=True)))\n",
    "print(df[column].value_counts())\n",
    "\n",
    "Y = df[column].values\n",
    "df = df.drop(['_IM_MINIMAL','_IM_EQUIVALENT'], axis=1)\n",
    "X = df.values"
   ]
  },
  {
   "cell_type": "code",
   "execution_count": 39,
   "metadata": {},
   "outputs": [
    {
     "name": "stdout",
     "output_type": "stream",
     "text": [
      " 1 vizinhos Acurácia: 56.21% Precisão: 56.47% Recall: 54.67% F1: 55.23%\n",
      " 2 vizinhos Acurácia: 56.56% Precisão: 60.15% Recall: 34.15% F1: 42.42%\n",
      " 3 vizinhos Acurácia: 59.71% Precisão: 60.16% Recall: 57.35% F1: 58.63%\n",
      " 4 vizinhos Acurácia: 58.69% Precisão: 64.34% Recall: 40.91% F1: 48.97%\n",
      " 5 vizinhos Acurácia: 60.16% Precisão: 61.77% Recall: 54.44% F1: 57.38%\n",
      " 6 vizinhos Acurácia: 60.05% Precisão: 65.47% Recall: 44.06% F1: 51.77%\n",
      " 7 vizinhos Acurácia: 60.94% Precisão: 62.18% Recall: 58.04% F1: 59.61%\n",
      " 8 vizinhos Acurácia: 61.51% Precisão: 64.76% Recall: 52.18% F1: 57.26%\n",
      " 9 vizinhos Acurácia: 61.51% Precisão: 62.35% Recall: 58.71% F1: 60.37%\n",
      "10 vizinhos Acurácia: 61.06% Precisão: 64.41% Recall: 50.81% F1: 56.55%\n",
      "11 vizinhos Acurácia: 60.50% Precisão: 61.74% Recall: 55.78% F1: 58.40%\n",
      "12 vizinhos Acurácia: 60.95% Precisão: 63.13% Recall: 52.84% F1: 57.40%\n",
      "13 vizinhos Acurácia: 59.93% Precisão: 60.96% Recall: 55.99% F1: 58.26%\n",
      "14 vizinhos Acurácia: 61.97% Precisão: 65.16% Recall: 52.37% F1: 57.96%\n",
      "15 vizinhos Acurácia: 61.40% Precisão: 62.67% Recall: 57.36% F1: 59.71%\n",
      "16 vizinhos Acurácia: 62.18% Precisão: 65.41% Recall: 52.62% F1: 58.06%\n",
      "17 vizinhos Acurácia: 60.95% Precisão: 61.68% Recall: 58.02% F1: 59.75%\n",
      "18 vizinhos Acurácia: 61.40% Precisão: 63.81% Recall: 53.07% F1: 57.63%\n",
      "19 vizinhos Acurácia: 60.84% Precisão: 61.81% Recall: 57.34% F1: 59.45%\n",
      "20 vizinhos Acurácia: 60.72% Precisão: 62.39% Recall: 54.63% F1: 58.17%\n",
      "21 vizinhos Acurácia: 60.49% Precisão: 61.01% Recall: 58.47% F1: 59.68%\n",
      "22 vizinhos Acurácia: 60.27% Precisão: 61.92% Recall: 54.64% F1: 57.94%\n",
      "23 vizinhos Acurácia: 61.62% Precisão: 61.75% Recall: 61.64% F1: 61.60%\n",
      "24 vizinhos Acurácia: 61.97% Precisão: 63.40% Recall: 57.36% F1: 60.08%\n",
      "25 vizinhos Acurácia: 61.51% Precisão: 62.39% Recall: 59.61% F1: 60.73%\n",
      "26 vizinhos Acurácia: 61.06% Precisão: 62.44% Recall: 57.13% F1: 59.41%\n",
      "27 vizinhos Acurácia: 61.40% Precisão: 61.71% Recall: 61.41% F1: 61.41%\n",
      "28 vizinhos Acurácia: 60.38% Precisão: 61.87% Recall: 54.40% F1: 57.73%\n",
      "29 vizinhos Acurácia: 59.93% Precisão: 60.49% Recall: 57.79% F1: 58.96%\n",
      "30 vizinhos Acurácia: 59.59% Precisão: 60.59% Recall: 54.87% F1: 57.44%\n"
     ]
    }
   ],
   "source": [
    "for k in range(1,31):\n",
    "    estimator = KNeighborsClassifier(n_neighbors=k)\n",
    "    scores = cross_val_score(estimator, X, Y, scoring='accuracy',cv=5)\n",
    "    acc = np.mean(scores) * 100\n",
    "    scores = cross_val_score(estimator, X, Y, scoring='precision',cv=5)\n",
    "    prec = np.mean(scores) * 100\n",
    "    scores = cross_val_score(estimator, X, Y, scoring='recall',cv=5)\n",
    "    rec = np.mean(scores) * 100\n",
    "    scores = cross_val_score(estimator, X, Y, scoring='f1',cv=5)\n",
    "    f1 = np.mean(scores) * 100\n",
    "    print(\"{:2d} vizinhos Acurácia: {:.2f}% Precisão: {:.2f}% Recall: {:.2f}% F1: {:.2f}%\".format(k,acc,prec,rec,f1))\n"
   ]
  },
  {
   "cell_type": "code",
   "execution_count": null,
   "metadata": {},
   "outputs": [],
   "source": []
  }
 ],
 "metadata": {
  "kernelspec": {
   "display_name": "Python 3",
   "language": "python",
   "name": "python3"
  },
  "language_info": {
   "codemirror_mode": {
    "name": "ipython",
    "version": 3
   },
   "file_extension": ".py",
   "mimetype": "text/x-python",
   "name": "python",
   "nbconvert_exporter": "python",
   "pygments_lexer": "ipython3",
   "version": "3.5.2"
  }
 },
 "nbformat": 4,
 "nbformat_minor": 2
}
