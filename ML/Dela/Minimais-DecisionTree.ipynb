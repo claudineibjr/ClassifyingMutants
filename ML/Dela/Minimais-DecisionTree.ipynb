{
 "cells": [
  {
   "cell_type": "code",
   "execution_count": 2,
   "metadata": {},
   "outputs": [
    {
     "name": "stdout",
     "output_type": "stream",
     "text": [
      "1    387\n",
      "0    387\n",
      "Name: _IM_MINIMAL, dtype: int64\n",
      "774 774\n"
     ]
    }
   ],
   "source": [
    "from sklearn.datasets import load_iris\n",
    "import numpy as np\n",
    "from collections import defaultdict\n",
    "from sklearn.model_selection import cross_val_score\n",
    "\n",
    "from sklearn.tree import DecisionTreeClassifier\n",
    "\n",
    "\n",
    "import pandas as pd\n",
    "\n",
    "\n",
    "df = pd.read_csv('1Full Mutants wOperator.csv')\n",
    "\n",
    "#escolher um desses dois\n",
    "column = '_IM_MINIMAL'\n",
    "#column = '_IM_EQUIVALENT'\n",
    "\n",
    "\n",
    "g = df.groupby(column)\n",
    "df = pd.DataFrame(g.apply(lambda x: x.sample(g.size().min()).reset_index(drop=True)))\n",
    "print(df[column].value_counts())\n",
    "\n",
    "Y = df[column].values\n",
    "df = df.drop(['_IM_MINIMAL','_IM_EQUIVALENT'], axis=1)\n",
    "X = df.values\n",
    "\n",
    "print(len(X), len(Y))"
   ]
  },
  {
   "cell_type": "code",
   "execution_count": 3,
   "metadata": {
    "scrolled": true
   },
   "outputs": [
    {
     "name": "stdout",
     "output_type": "stream",
     "text": [
      "min_sample_split  5 Acurácia: 74.43% Precisão: 76.41% Recall: 71.58% F1: 73.65%\n"
     ]
    },
    {
     "ename": "NameError",
     "evalue": "name 'r' is not defined",
     "output_type": "error",
     "traceback": [
      "\u001b[0;31m---------------------------------------------------------------------------\u001b[0m",
      "\u001b[0;31mNameError\u001b[0m                                 Traceback (most recent call last)",
      "\u001b[0;32m<ipython-input-3-ac04cc7ca93b>\u001b[0m in \u001b[0;36m<module>\u001b[0;34m\u001b[0m\n\u001b[1;32m     13\u001b[0m     \u001b[0mf1\u001b[0m \u001b[0;34m=\u001b[0m \u001b[0mnp\u001b[0m\u001b[0;34m.\u001b[0m\u001b[0mmean\u001b[0m\u001b[0;34m(\u001b[0m\u001b[0mscores\u001b[0m\u001b[0;34m)\u001b[0m \u001b[0;34m*\u001b[0m \u001b[0;36m100\u001b[0m\u001b[0;34m\u001b[0m\u001b[0;34m\u001b[0m\u001b[0m\n\u001b[1;32m     14\u001b[0m     \u001b[0mprint\u001b[0m\u001b[0;34m(\u001b[0m\u001b[0;34m\"min_sample_split {:2d} Acurácia: {:.2f}% Precisão: {:.2f}% Recall: {:.2f}% F1: {:.2f}%\"\u001b[0m\u001b[0;34m.\u001b[0m\u001b[0mformat\u001b[0m\u001b[0;34m(\u001b[0m\u001b[0mn\u001b[0m\u001b[0;34m,\u001b[0m\u001b[0macc\u001b[0m\u001b[0;34m,\u001b[0m\u001b[0mprec\u001b[0m\u001b[0;34m,\u001b[0m\u001b[0mrec\u001b[0m\u001b[0;34m,\u001b[0m\u001b[0mf1\u001b[0m\u001b[0;34m)\u001b[0m\u001b[0;34m)\u001b[0m\u001b[0;34m\u001b[0m\u001b[0;34m\u001b[0m\u001b[0m\n\u001b[0;32m---> 15\u001b[0;31m     \u001b[0my\u001b[0m\u001b[0;34m.\u001b[0m\u001b[0mappend\u001b[0m\u001b[0;34m(\u001b[0m\u001b[0mr\u001b[0m\u001b[0;34m)\u001b[0m\u001b[0;34m\u001b[0m\u001b[0;34m\u001b[0m\u001b[0m\n\u001b[0m",
      "\u001b[0;31mNameError\u001b[0m: name 'r' is not defined"
     ]
    }
   ],
   "source": [
    "x = []\n",
    "y = []\n",
    "for n in range(5,101,10):\n",
    "    x.append(n)\n",
    "    clf = DecisionTreeClassifier(min_samples_split=n)\n",
    "    scores = cross_val_score(clf, X, Y,scoring='accuracy',cv=5)\n",
    "    acc = np.mean(scores) * 100\n",
    "    scores = cross_val_score(clf, X, Y,scoring='precision',cv=5)\n",
    "    prec = np.mean(scores) * 100\n",
    "    scores = cross_val_score(clf, X, Y,scoring='recall',cv=5)\n",
    "    rec = np.mean(scores) * 100\n",
    "    scores = cross_val_score(clf, X, Y,scoring='f1',cv=5)\n",
    "    f1 = np.mean(scores) * 100\n",
    "    print(\"min_sample_split {:2d} Acurácia: {:.2f}% Precisão: {:.2f}% Recall: {:.2f}% F1: {:.2f}%\".format(n,acc,prec,rec,f1))\n",
    "    y.append(r)\n"
   ]
  },
  {
   "cell_type": "code",
   "execution_count": null,
   "metadata": {},
   "outputs": [],
   "source": []
  },
  {
   "cell_type": "code",
   "execution_count": null,
   "metadata": {},
   "outputs": [],
   "source": []
  }
 ],
 "metadata": {
  "kernelspec": {
   "display_name": "Python 3",
   "language": "python",
   "name": "python3"
  },
  "language_info": {
   "codemirror_mode": {
    "name": "ipython",
    "version": 3
   },
   "file_extension": ".py",
   "mimetype": "text/x-python",
   "name": "python",
   "nbconvert_exporter": "python",
   "pygments_lexer": "ipython3",
   "version": "3.6.8"
  }
 },
 "nbformat": 4,
 "nbformat_minor": 2
}
